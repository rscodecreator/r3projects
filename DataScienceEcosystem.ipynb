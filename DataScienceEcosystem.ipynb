{
 "cells": [
  {
   "cell_type": "markdown",
   "id": "743858d0-5a4a-4fa7-b2da-767f21b0c26c",
   "metadata": {},
   "source": [
    "# Data Science Tools and Ecosystem"
   ]
  },
  {
   "cell_type": "markdown",
   "id": "fa12375f-d3b1-4003-8bcc-941d198d0db8",
   "metadata": {},
   "source": [
    "## Author\n",
    "Ramon Solis"
   ]
  },
  {
   "cell_type": "markdown",
   "id": "c7637f88-5e62-4ae7-b21f-252b1b1c15a8",
   "metadata": {},
   "source": [
    "In this notebook, Data Science Tools and Ecosystem are summarized."
   ]
  },
  {
   "cell_type": "markdown",
   "id": "b700fbd2-7d13-420c-b88b-a1b98951d78d",
   "metadata": {},
   "source": [
    "# Objectives\n",
    "- List popular tools for Data Science\n",
    "- Create data tables\n",
    "- Evaluate arithmetic expressions"
   ]
  },
  {
   "cell_type": "markdown",
   "id": "f3caf382-93b7-4380-bd79-e63c0a135df7",
   "metadata": {},
   "source": [
    "Some of the popular languages that Data Scientists use are:\n",
    "1. Python\n",
    "2. R\n",
    "3. SQL"
   ]
  },
  {
   "cell_type": "markdown",
   "id": "6c20028f-e3d0-4775-9106-b0f1f2ef00dd",
   "metadata": {},
   "source": [
    "Some of the commonly used libraries used by Data Scientists include:\n",
    "1. ggplot2\n",
    "2. PyTorch\n",
    "3. TensorFlow"
   ]
  },
  {
   "cell_type": "markdown",
   "id": "73c802ab-9b54-4031-a3e3-91d93b7940e0",
   "metadata": {},
   "source": [
    "Data Science Tools\n",
    "|-------------------|\n",
    "|JupyterLite |\n",
    "|VS Code |\n",
    "|Google Colaboratory |\n",
    "\n"
   ]
  },
  {
   "cell_type": "markdown",
   "id": "3f0c8e9f-b310-450c-8f73-a56fbb931230",
   "metadata": {},
   "source": [
    "### Below are a few examples of evaluating arithmetic expressions in Python."
   ]
  },
  {
   "cell_type": "code",
   "execution_count": 2,
   "id": "3a46f76c-0aeb-4f72-aa6e-bdab5f9eb6d0",
   "metadata": {},
   "outputs": [
    {
     "data": {
      "text/plain": [
       "17"
      ]
     },
     "execution_count": 2,
     "metadata": {},
     "output_type": "execute_result"
    }
   ],
   "source": [
    "#This is a simple arithmetic expression to multiply and add integers\n",
    "(3*4)+5"
   ]
  },
  {
   "cell_type": "code",
   "execution_count": 3,
   "id": "1482e449-942a-4231-b14d-4d825f0d826e",
   "metadata": {},
   "outputs": [
    {
     "data": {
      "text/plain": [
       "3.3333333333333335"
      ]
     },
     "execution_count": 3,
     "metadata": {},
     "output_type": "execute_result"
    }
   ],
   "source": [
    "#This convert 200 minutes into hours by dividing by 60.\n",
    "200/60"
   ]
  },
  {
   "cell_type": "code",
   "execution_count": null,
   "id": "d3998ae1-6d28-48e6-affa-6c8a5248adf1",
   "metadata": {},
   "outputs": [],
   "source": []
  }
 ],
 "metadata": {
  "kernelspec": {
   "display_name": "Python 3 (ipykernel)",
   "language": "python",
   "name": "python3"
  },
  "language_info": {
   "codemirror_mode": {
    "name": "ipython",
    "version": 3
   },
   "file_extension": ".py",
   "mimetype": "text/x-python",
   "name": "python",
   "nbconvert_exporter": "python",
   "pygments_lexer": "ipython3",
   "version": "3.12.7"
  }
 },
 "nbformat": 4,
 "nbformat_minor": 5
}
